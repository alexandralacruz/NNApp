{
  "nbformat": 4,
  "nbformat_minor": 0,
  "metadata": {
    "colab": {
      "provenance": []
    },
    "kernelspec": {
      "name": "python3",
      "display_name": "Python 3"
    },
    "language_info": {
      "name": "python"
    }
  },
  "cells": [
    {
      "cell_type": "code",
      "execution_count": null,
      "metadata": {
        "colab": {
          "base_uri": "https://localhost:8080/"
        },
        "id": "6yUA-Bs8t0_q",
        "outputId": "3f60f4a1-328e-4421-d73f-3306556a191d"
      },
      "outputs": [
        {
          "output_type": "stream",
          "name": "stdout",
          "text": [
            "Epoch [10/50], Loss: 0.0378\n",
            "Epoch [20/50], Loss: 0.0061\n",
            "Epoch [30/50], Loss: 0.0016\n",
            "Epoch [40/50], Loss: 0.0013\n",
            "Epoch [50/50], Loss: 0.0013\n",
            "\n",
            "Test Accuracy: 0.9778\n",
            "              precision    recall  f1-score   support\n",
            "\n",
            "           0       0.97      1.00      0.99        33\n",
            "           1       1.00      1.00      1.00        28\n",
            "           2       1.00      1.00      1.00        33\n",
            "           3       0.94      0.97      0.96        34\n",
            "           4       1.00      1.00      1.00        46\n",
            "           5       0.94      0.98      0.96        47\n",
            "           6       0.97      0.97      0.97        35\n",
            "           7       0.97      0.97      0.97        34\n",
            "           8       1.00      0.97      0.98        30\n",
            "           9       1.00      0.93      0.96        40\n",
            "\n",
            "    accuracy                           0.98       360\n",
            "   macro avg       0.98      0.98      0.98       360\n",
            "weighted avg       0.98      0.98      0.98       360\n",
            "\n"
          ]
        }
      ],
      "source": [
        "import torch\n",
        "import torch.nn as nn\n",
        "import torch.optim as optim\n",
        "from torch.utils.data import DataLoader, TensorDataset\n",
        "from sklearn.datasets import load_digits\n",
        "from sklearn.model_selection import train_test_split\n",
        "from sklearn.preprocessing import StandardScaler\n",
        "from sklearn.metrics import classification_report\n",
        "import numpy as np\n",
        "\n",
        "# Cargar el dataset de dígitos\n",
        "digits = load_digits()\n",
        "X, y = digits.images, digits.target  # X tiene forma (n_samples, 8, 8)\n",
        "\n",
        "# Aplanar las imágenes para red densa\n",
        "X = X.reshape(X.shape[0], -1)  # (n_samples, 64)\n",
        "\n",
        "# Dividir en entrenamiento y prueba\n",
        "X_train, X_test, y_train, y_test = train_test_split(X, y, test_size=0.2, random_state=42)\n",
        "\n",
        "# Escalar los datos\n",
        "scaler = StandardScaler()\n",
        "X_train = scaler.fit_transform(X_train)\n",
        "X_test = scaler.transform(X_test)\n",
        "\n",
        "# Convertir a tensores de PyTorch\n",
        "X_train_tensor = torch.tensor(X_train, dtype=torch.float32)\n",
        "y_train_tensor = torch.tensor(y_train, dtype=torch.long)  # Multiclase\n",
        "X_test_tensor = torch.tensor(X_test, dtype=torch.float32)\n",
        "y_test_tensor = torch.tensor(y_test, dtype=torch.long)\n",
        "\n",
        "# Crear DataLoader\n",
        "train_dataset = TensorDataset(X_train_tensor, y_train_tensor)\n",
        "train_loader = DataLoader(train_dataset, batch_size=32, shuffle=True)\n",
        "\n",
        "# Definir el modelo\n",
        "input_size = X_train.shape[1]\n",
        "num_classes = len(np.unique(y))\n",
        "\n",
        "class MLP(nn.Module):\n",
        "    def __init__(self):\n",
        "        super().__init__()\n",
        "        self.fc1 = nn.Linear(input_size, 64)\n",
        "        self.fc2 = nn.Linear(64, 32)\n",
        "        self.fc3 = nn.Linear(32, num_classes)\n",
        "        self.relu = nn.ReLU()\n",
        "\n",
        "    def forward(self, x):\n",
        "        x = self.relu(self.fc1(x))\n",
        "        x = self.relu(self.fc2(x))\n",
        "        x = self.fc3(x)  # logits\n",
        "        return x\n",
        "\n",
        "model = MLP()\n",
        "\n",
        "# Definir pérdida y optimizador\n",
        "criterion = nn.CrossEntropyLoss()  # Multiclase\n",
        "optimizer = optim.Adam(model.parameters(), lr=0.001)\n",
        "\n",
        "# Entrenamiento\n",
        "epochs = 50\n",
        "for epoch in range(epochs):\n",
        "    for inputs, labels in train_loader:\n",
        "        optimizer.zero_grad()\n",
        "        outputs = model(inputs)\n",
        "        loss = criterion(outputs, labels)\n",
        "        loss.backward()\n",
        "        optimizer.step()\n",
        "\n",
        "    if (epoch + 1) % 10 == 0:\n",
        "        print(f'Epoch [{epoch+1}/{epochs}], Loss: {loss.item():.4f}')\n",
        "\n",
        "# Evaluación\n",
        "model.eval()\n",
        "with torch.no_grad():\n",
        "    test_outputs = model(X_test_tensor)\n",
        "    _, predicted = torch.max(test_outputs, 1)\n",
        "    accuracy = (predicted == y_test_tensor).float().mean()\n",
        "    print(f'\\nTest Accuracy: {accuracy:.4f}')\n",
        "    print(classification_report(y_test_tensor, predicted))\n"
      ]
    },
    {
      "cell_type": "code",
      "source": [
        "import matplotlib.pyplot as plt\n",
        "\n",
        "# Elegir un índice de ejemplo del conjunto de prueba\n",
        "idx = 0  # puedes cambiarlo\n",
        "image = X_test[idx]  # ya está aplanada y escalada\n",
        "label_true = y_test[idx]\n",
        "\n",
        "# Convertir a tensor\n",
        "image_tensor = torch.tensor(image, dtype=torch.float32).unsqueeze(0)  # agregar dimensión batch\n",
        "\n",
        "# Pasar por el modelo\n",
        "model.eval()\n",
        "with torch.no_grad():\n",
        "    output = model(image_tensor)\n",
        "    predicted_class = torch.argmax(output, dim=1).item()\n",
        "\n",
        "print(f'Clase real: {label_true}')\n",
        "print(f'Clase predicha: {predicted_class}')\n",
        "\n",
        "# Mostrar la imagen\n",
        "plt.imshow(X_test[idx].reshape(8,8), cmap='gray')\n",
        "plt.title(f'True: {label_true}, Predicted: {predicted_class}')\n",
        "plt.axis('off')\n",
        "plt.show()\n"
      ],
      "metadata": {
        "colab": {
          "base_uri": "https://localhost:8080/",
          "height": 463
        },
        "id": "95Rx2qM9ul8s",
        "outputId": "48352aea-1a9e-402c-cda6-453eba24dc75"
      },
      "execution_count": null,
      "outputs": [
        {
          "output_type": "stream",
          "name": "stdout",
          "text": [
            "Clase real: 6\n",
            "Clase predicha: 6\n"
          ]
        },
        {
          "output_type": "display_data",
          "data": {
            "text/plain": [
              "<Figure size 640x480 with 1 Axes>"
            ],
            "image/png": "[encoded data removed]"
          },
          "metadata": {}
        }
      ]
    }
  ]
}